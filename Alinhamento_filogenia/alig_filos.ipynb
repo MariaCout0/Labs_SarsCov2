{
 "cells": [
  {
   "cell_type": "markdown",
   "metadata": {},
   "source": [
    "# Laboratórios de Bioinformática\n",
    "### Alinhamento múltiplo e filogenia\n",
    "\n",
    "**Grupo 6**: Joana Gabriel, Maria Couto, Teresa Coimbra"
   ]
  },
  {
   "cell_type": "markdown",
   "metadata": {},
   "source": [
    "Para efetuar o alinhamento múltiplo foram desenvolvidas algumas funções para automatizar o processo de junção das sequências a alinhar num só ficheiro fasta. Este processo foi utilizado para gerar os ficheiros do alinhamento das proteínas humanas. Para o ficheiro utilizado no alinhamento da proteína do vírus foram também adicionadas outras sequências que foram retiradas do SARS-CoV-2 *data hub* do NCBI.\n",
    "\n",
    "\n",
    "A primeira função get_hit_id corre o blast e retorna uma lista com os IDS das sequências. Seguidamente, a função get_id recebe a lista gerada na função anterior e retorna apenas os ids (sem a formatação do alignment.hit_id que acrescenta caracteres, tais como 'sp' e '|'). Tal foi necessário para correr a função seguinte, que recebe a lista dos ids e cria um ficheiro fasta com as sequências correspondentes. "
   ]
  },
  {
   "cell_type": "code",
   "execution_count": 1,
   "metadata": {},
   "outputs": [],
   "source": [
    "def get_hit_id(filename, E_VALUE_THRES=0.0001, bit_score = 50, SCORE=200):\n",
    "    ''' Corre o Blast e retorna uma lista com os IDS das sequências que resultaram dessa pesquisa'''\n",
    "    from Bio.Blast import NCBIXML\n",
    "    from Bio import SeqIO\n",
    "    result_handle = open('./'+filename+'.xml') \n",
    "    blast_records = NCBIXML.read(result_handle)\n",
    "    \n",
    "    List1 = []\n",
    "    for alignment in blast_records.alignments:\n",
    "        for hsp in alignment.hsps:\n",
    "            if (hsp.expect < E_VALUE_THRES) and (hsp.bits > bit_score) and (hsp.score > SCORE):\n",
    "                List1.append(alignment.hit_id)\n",
    "        \n",
    "    return List1"
   ]
  },
  {
   "cell_type": "code",
   "execution_count": 2,
   "metadata": {},
   "outputs": [],
   "source": [
    "def get_id(hit_id_list):\n",
    "    '''Recebe uma lista de Id de cada hit e retorna apenas os ids'''\n",
    "    id_list = []\n",
    "    for i in hit_id_list:\n",
    "        ids = i.split('|')\n",
    "        id_list.append(ids[1])\n",
    "    return id_list"
   ]
  },
  {
   "cell_type": "code",
   "execution_count": 3,
   "metadata": {},
   "outputs": [],
   "source": [
    "def get_fasta_file(ids, nome):\n",
    "    '''Recebe uma lista de ids para um dos genes e o nome a dar ao ficheiro\n",
    "    Cria um ficheiro fasta com o conjunto das sequências que correspondem aos ids'''\n",
    "    from Bio import Entrez\n",
    "    from Bio import SeqIO\n",
    "    import re\n",
    "    record_list = []\n",
    "    for id0 in ids:\n",
    "        Entrez.email = 'lbiogrupo6@gmail.com'\n",
    "        handle = Entrez.efetch(db=\"protein\", id=id0, rettype=\"fasta\", retmode=\"text\")\n",
    "        record = SeqIO.read(handle, \"fasta\")\n",
    "        record_list.append(record)\n",
    "    SeqIO.write(record_list, nome+'.faa', 'fasta')"
   ]
  },
  {
   "cell_type": "markdown",
   "metadata": {},
   "source": [
    "### HNRNP A1 - heterogeneous nuclear ribonucleoprotein A1-like 2 "
   ]
  },
  {
   "cell_type": "code",
   "execution_count": 13,
   "metadata": {},
   "outputs": [],
   "source": [
    "from Bio.Seq import Seq\n",
    "from Bio.SeqRecord import SeqRecord\n",
    "from Bio.Align import MultipleSeqAlignment\n",
    "from Bio import AlignIO"
   ]
  },
  {
   "cell_type": "code",
   "execution_count": 9,
   "metadata": {},
   "outputs": [],
   "source": [
    "# hnrnp = get_hit_id('NP_001011725.1')\n",
    "# hnrnp_id = get_id(hnrnp)\n",
    "# get_fasta_file(hnrnp_id, 'nucleoprotein_3')"
   ]
  },
  {
   "cell_type": "code",
   "execution_count": 19,
   "metadata": {},
   "outputs": [
    {
     "name": "stdout",
     "output_type": "stream",
     "text": [
      "Alignment with 18 rows and 429 columns\n",
      "---------------------MSKSESPKEPEQLRKLFIGGLSF...F-- NP002127.1|HNRNP\n",
      "---------------------MSKSESPKEPEQLRKLFIGGLSF...F-- NP112420.1|HNRNP\n",
      "---------------------MSKSASPKEPEQLRKLFIGGLSF...FQ- NP001011724.1|HNRNP\n",
      "---------------------MSKSASPKEPEQLRKLFIGGLSF...FQ- NP001011725.1|HNRNP\n",
      "---------------------MSKSASPKEPEQLRKLFIGGLSF...FQ- Q32P51.2|RA1L2\n",
      "---------------------MSKSESPKEPEQLRKLFIGGLSF...FQ- A5A6H4.1|ROA1\n",
      "---------------------MSKSESPKEPEQLRKLFIGGLSF...FQ- P04256.3|ROA1\n",
      "---------------------MSKSESPKEPEQLRKLFIGGLSF...FQ- Q28521.3|ROA1\n",
      "---------------------MSKSESPKEPEQLRKLFIGGLSF...F-- P09651.5|ROA1\n",
      "---------------------MHKSEAPNEPEQLRKLFIGGLSF...FY- P17130.1|ROA1\n",
      "--------MPRGGMDDHWPSSDDQGHEPKEPEQLRKLFIGGLSF...FY- P51992.1|RO32\n",
      "MEVKPPPGRPQPDSGRRRRRRGEEGHDPKEPEQLRKLFIGGLSF...--- P51991.2|ROA3\n",
      "MEVKPPPGRPQPDSGRRRRRRGEEGHDPKEPEQLRKLFIGGLSF...--- Q6URK4.1|ROA3\n",
      "--------------------------MEREKEQFRKLFIGGLSF...RYM P51989.1|RO21\n",
      "--------------------------MEREKEQFRKLFIGGLSF...RYG Q2HJ60.1|ROA2\n",
      "--------------MEKTLETVPLERKKREKEQFRKLFIGGLSF...RYG O88569.2|ROA2\n",
      "--------------MEKTLETVPLERKKREKEQFRKLFIGGLSF...RYG P22626.2|ROA2\n",
      "--------------MEKTLETVPLERKKREKEQFRKLFIGGLSF...RY- A7VJC2.1\n"
     ]
    }
   ],
   "source": [
    "al1 = AlignIO.read('HNRNPA1.fas','fasta')\n",
    "print(al1)"
   ]
  },
  {
   "cell_type": "markdown",
   "metadata": {},
   "source": [
    "### Converta esse ficheiro para o formato stockholm.\n",
    "Através do formato PFAM/Stockholm é possível adicionar anotação que mostre a qualidade do alinhamento."
   ]
  },
  {
   "cell_type": "code",
   "execution_count": 20,
   "metadata": {},
   "outputs": [
    {
     "name": "stdout",
     "output_type": "stream",
     "text": [
      "Converted 1 alignments\n",
      "1\n"
     ]
    }
   ],
   "source": [
    "from Bio import AlignIO\n",
    "al_st = AlignIO.convert(\"HNRNPA1.fas\",'fasta',\"HNRNPA1.sth\",'stockholm')\n",
    "print(\"Converted %i alignments\" % al_st)\n",
    "print(al_st)"
   ]
  },
  {
   "cell_type": "code",
   "execution_count": 21,
   "metadata": {},
   "outputs": [
    {
     "name": "stdout",
     "output_type": "stream",
     "text": [
      "---------------------MSKSESPKEPEQLRKLFIGGLSFETTDESLRSHFEQWGTLTDCVVMRDPNTKRSRGFGFVTYATVEEVDAAMNARPHKVDGRVVEPKRAVSREDSQRPGAHLTVKKIFVGGIKEDTEEHHLRDYFEQYGKIEVIEIMTDRGSGKKRGFAFVTFDDHDSVDKIVIQKYHTVNGHNCEVRKALSKQEMASASSSQRGRSGSGNFG----------GGRGGGFGGNDNFGRGGNFSGRGG---------------------FGGSRGGGGYGGSGDGYNGFGNDG----------------------------------------------------SNFGGGGSYNDFGNYNNQSS-NFGPMKGG-NFGG-RSSGPYGGGGQYFAKPRNQGGYGGSSSSSSYGSGRRF-- - NP002127.1|HNRNP\n",
      "---------------------MSKSESPKEPEQLRKLFIGGLSFETTDESLRSHFEQWGTLTDCVVMRDPNTKRSRGFGFVTYATVEEVDAAMNARPHKVDGRVVEPKRAVSREDSQRPGAHLTVKKIFVGGIKEDTEEHHLRDYFEQYGKIEVIEIMTDRGSGKKRGFAFVTFDDHDSVDKIVIQKYHTVNGHNCEVRKALSKQEMASASSSQRGRSGSGNFG----------GGRGGGFGGNDNFGRGGNFSGRGG---------------------FGGSRGGGGYGGSGDGYNGFGNDGGYGGGGPGYSGGSRGYGSGGQGYGNQGSGYGGSGSYDSYNNGGGGGFGGGSGSNFGGGGSYNDFGNYNNQSS-NFGPMKGG-NFGG-RSSGPYGGGGQYFAKPRNQGGYGGSSSSSSYGSGRRF-- - NP112420.1|HNRNP\n",
      "---------------------MSKSASPKEPEQLRKLFIGGLSFETTDESLRSHFEQWGTLTDCVVMRDPNTKRSRGFGFVTYATVEEVDAAMNTTPHKVDGRVVEPKRAVSREDSQRPGAHLTVKKIFVGGIKEDTEEHHLRDYFEQYGKIEVIEIMTDRGSGKKRGFAFVTFDDHDSVDKIVIQKYHTVKGHNCEVRKALPKQEMASASSSQRGRRGSGNFG----------GGRGDGFGGNDNFGRGGNFSGRGG---------------------FGGSCGGGGYGGSGDGYNGFGNDG----------------------------------------------------SNFGGGGSYNDFGNYNNQSS-NFGPMKGG-NFGG-RSSGPYGGGGQYFAKPQNQGGYGVSSSSSSYGSGRRFQ- - NP001011724.1|HNRNP\n",
      "---------------------MSKSASPKEPEQLRKLFIGGLSFETTDESLRSHFEQWGTLTDCVVMRDPNTKRSRGFGFVTYATVEEVDAAMNTTPHKVDGRVVEPKRAVSREDSQRPGAHLTVKKIFVGGIKEDTEEHHLRDYFEQYGKIEVIEIMTDRGSGKKRGFAFVTFDDHDSVDKIVIQKYHTVKGHNCEVRKALPKQEMASASSSQRGRRGSGNFG----------GGRGDGFGGNDNFGRGGNFSGRGG---------------------FGGSCGGGGYGGSGDGYNGFGNDG----------------------------------------------------SNFGGGGSYNDFGNYNNQSS-NFGPMKGG-NFGG-RSSGPYGGGGQYFAKPQNQGGYGVSSSSSSYGSGRRFQ- - NP001011725.1|HNRNP\n",
      "---------------------MSKSASPKEPEQLRKLFIGGLSFETTDESLRSHFEQWGTLTDCVVMRDPNTKRSRGFGFVTYATVEEVDAAMNTTPHKVDGRVVEPKRAVSREDSQRPGAHLTVKKIFVGGIKEDTEEHHLRDYFEQYGKIEVIEIMTDRGSGKKRGFAFVTFDDHDSVDKIVIQKYHTVKGHNCEVRKALPKQEMASASSSQRGRRGSGNFG----------GGRGDGFGGNDNFGRGGNFSGRGG---------------------FGGSCGGGGYGGSGDGYNGFGNDG----------------------------------------------------SNFGGGGSYNDFGNYNNQSS-NFGPMKGG-NFGG-RSSGPYGGGGQYFAKPQNQGGYGVSSSSSSYGSGRRFQ- - Q32P51.2|RA1L2\n",
      "---------------------MSKSESPKEPEQLRKLFIGGLSFETTDESLRSHFEQWGTLTDCVVMRDPNTKRSRGFGFVTYATVEEVDAAMNARPHKVDGRVVEPKRAVSREDSQRPGAHLTVKKIFVGGIKEDTEEHHLRDYFEQYGKIEVIEIMTDRGSGKKRGFAFVTFDDHDSVDKIVIQKYHTVNGHNCEVRKALSKQEMASASSSQRGRSGSGNFG----------GGRGGGFGGNDNFGRGGNFSGRGG---------------------FGGSRGGGGYGGSGDGYNGFGNDG----------------------------------------------------SNFGGGGSYNDFGNYNNQSS-NFGPMKGG-NFGG-RSSGPYGGGGQYFAKPRNQGGYGGSSSSSSYGSGRRFQ- - A5A6H4.1|ROA1\n",
      "---------------------MSKSESPKEPEQLRKLFIGGLSFETTDESLRSHFEQWGTLTDCVVMRDPNTKRSRGFGFVTYATVEEVDAAMNARPHKVDGRVVEPKRAVSREDSQRPGAHLTVKKIFVGGIKEDTEEHHLRDYFEQYGKIEVIEIMTDRGSGKKRGFAFVTFDDHDSVDKIVIQKYHTVNGHNCEVRKALCKQEMASASSSQRGRSGSGNFG----------GGRGGGFGGNDNFGRGGNFSGRGG---------------------FGGSRGGGGYGGSGDGYNGFGNDG----------------------------------------------------SNFGGGGSYNDFGNYNNQSS-NFGPMKGG-NFGG-RSSGPYGGGGQYFAKPRNQGGYGGSSSSSSYGSGRRFQ- - P04256.3|ROA1\n",
      "---------------------MSKSESPKEPEQLRKLFIGGLSFETTDESLRSHFEQWGTLTDCVVMRDPNTKRSRGFGFVTYATVEKVDAAMNARPHKVDGRVVEPKRAVSREDSQRPGAHLTVKKIFVGGIKEDTEEHHLRDYFEQYGKIEVIEIMTDRGSGKKRGFAFVTFDDHNSVDKIVIQKYHTVNGHNCEVRKALSKQEMASASSSQRGRSGSGNFG----------GGRGGGFGGNDNFGRGGNFSGRGG---------------------FGGSRGGGGYGGSGDGYNGFGNDG----------------------------------------------------SNFGGGGSYNDFGNYNNQSS-NFGPMKGG-NFGG-RSLGPYGGGGQYFAKPRNQGGYGGSSSSSSYGSGRRFQ- - Q28521.3|ROA1\n",
      "---------------------MSKSESPKEPEQLRKLFIGGLSFETTDESLRSHFEQWGTLTDCVVMRDPNTKRSRGFGFVTYATVEEVDAAMNARPHKVDGRVVEPKRAVSREDSQRPGAHLTVKKIFVGGIKEDTEEHHLRDYFEQYGKIEVIEIMTDRGSGKKRGFAFVTFDDHDSVDKIVIQKYHTVNGHNCEVRKALSKQEMASASSSQRGRSGSGNFG----------GGRGGGFGGNDNFGRGGNFSGRGG---------------------FGGSRGGGGYGGSGDGYNGFGNDGGYGGGGPGYSGGSRGYGSGGQGYGNQGSGYGGSGSYDSYNNGGGGGFGGGSGSNFGGGGSYNDFGNYNNQSS-NFGPMKGG-NFGG-RSSGPYGGGGQYFAKPRNQGGYGGSSSSSSYGSGRRF-- - P09651.5|ROA1\n",
      "---------------------MHKSEAPNEPEQLRKLFIGGLSFETTDESLREHFEQWGTLTDCVVMRDPNSKRSRGFGFVTYLSTDEVDAAMTARPHKVDGRVVEPKRAVSREDSSRPGAHLTVKKIFVGGIKEDTEEDHLREYFEQYGKIEVIEIMTDRGSGKKRGFAFVTFEDHDSVDKIVIQKYHTVNNHNSQVRKALSKQEMASVSGSQRERGGSGNYGSRGGFGNDNFGGRGGNFGGNRGGGGGFGNRGYGGDGYNGDGQLWWQPSLLGWNRGYGAGQGGGYGAGQGGGYGGGGQGGGYGGNGGYDG------------------------------YNGGGSGFSGSGGNFGSSGGYNDFGNYNSQSSSNFGPMKGG-NYGGGRNSGPYGGG----------YGGGSASSSSGYGGGRRFY- - P17130.1|ROA1\n",
      "--------MPRGGMDDHWPSSDDQGHEPKEPEQLRKLFIGGLSFETTDDSLREHFEQWGKLTDCVVMRDPQTKRSRGFGFVTYSCVEEVDASMSARPHKVDGRVVEPKRAVSREDSARPGAHLTVKKIFVGGIKEDTEEYHLRDYFEGYGKIETIEVMEDRQSGKKRGFAFVTFDDHDTVDKIVVQKYHTINLHNCEVKKALSKQEMQTASAQRGRGGGGSNFMGRGG----NYGGGDGGGGGNFGRGGGFGNRGGYG---------------------GGGGRG-GGYGGGGDGYNGFGGDGGNYGGGPGYGGRGYGGSPGYGNQGGGYGGGGGGGGAGGGGYDGYNEGGNFG------GGNYNDFGSYGGQQQSNYGPMKAG-NFSG-RSTGGSGGSSSGPYGGGYGSGGGGGGGGGGSYGGRRFY- - P51992.1|RO32\n",
      "MEVKPPPGRPQPDSGRRRRRRGEEGHDPKEPEQLRKLFIGGLSFETTDDSLREHFEKWGTLTDCVVMRDPQTKRSRGFGFVTYSCVEEVDAAMCARPHKVDGRVVEPKRAVSREDSVKPGAHLTVKKIFVGGIKEDTEEYNLRDYFEKYGKIETIEVMEDRQSGKKRGFAFVTFDDHDTVDKIVVQKYHTINGHNCEVKKALSKQEMQSAGSQRGRGGGSGNFMGRGG----NFGGG----GGNFGRGGNFGGRGGYG---------------------GGGGGSRGSYGGGDGGYNGFGGDGGNYGGGPGYSSR-----GGYGGGGPGYGNQGGGYGGGGG-YDGYNEGGNFGGGNYGGGGNYNDFGNYSGQQQSNYGPMKGG-SFGG-RSSGS-------PYGGGYGSGGGSGGYGSRRFS------ - P51991.2|ROA3\n",
      "MEVKPPPGRPQPDSGRRRRRRGEEGHDPKEPEQLRKLFIGGLSFETTDDSLREHFEKWGTLTDCVVMRDPQTKRSRGFGFVTYSCVEEVDAAMCARPHKVDGRVVEPKRAVSREDSVKPGAHLTVKKIFVGGIKEDTEEYNLRDYFEKYGKIETIEVMEDRQSGKKRGFAFVTFDDHDTVDKIVVQKYHTINGHNCEVKKALSKQEMQSAGSQRGRGGGSGNFMGRGG----NFGGG----GGNFGRGGNFGGRGGYG---------------------GGGGGSRGSYGGGDGGYNGFGGDGGNYGGGPGYSSR-----GGYGGGGPGYGNQGGGYGGGGGGYDGYNEGGNFGGGNYGGGGNYNDFGNYSGQQQSNYGPMKGG-SFGG-RSSGS-------PYGGGYGSGGGSGGYGSRRF------- - Q6URK4.1|ROA3\n",
      "--------------------------MEREKEQFRKLFIGGLSFETTEESLRNYYEQWGTLTDCVVMRDPASKRSRGFGFVTFSCMNEVDAAMATRPHTIDGRVVEPKRAVAREESAKPGAHVTVKKLFVGGIKEDTEEHHLREYFEEYGKIDSIEIITDKQSGKKRGFAFVTFDDHDPVDKIVLQKYHTINGHNAEVRKALSKQEMQDVQNTRNNRGGNFGFGDSRGGG-NFGSGPGGNFRGGSDGYGGGRGYGDNGYNG------------------YGGGQGGGNYGGGPSYGGGRGGGYGGGAGYGNQGGGYG------------------------------GGYDNYGGGNYGGGGNYNDFGNYNQQSS-NYGPMKSGGNFGGNRSMGGG------PYGGGNYGPGNASGGNGGGYGGRNRYM - P51989.1|RO21\n",
      "--------------------------MEREKEQFRKLFIGGLSFETTEESLRNYYEQWGKLTDCVVMRDPASKRSRGFGFVTFSSMAEVDAAMAARPHSIDGRVVEPKRAVAREESGKPGAHVTVKKLFVGGIKEDTEEHHLRDYFEEYGKIDTIEIITDRQSGKKRGFGFVTFDDHDPVDKIVLQKYHTINGHNAEVRKALSRQEMQEVQSSRSGRGGNFGFGDSRGGGGNFGPGPGSNFRGGSDGYGSGRGFG-DGYNG------------------YGGGPGGGNFGGSPGYGGGRGGYGGGGPGYGNQGGGYG------------------------------GGYDNYGGGNYGSG-NYNDFGNYNQQPS-NYGPMKSG-NFGGSRNMGG-------PYGGGNYGPGGSGGS--GGYGGRSRYG - Q2HJ60.1|ROA2\n",
      "--------------MEKTLETVPLERKKREKEQFRKLFIGGLSFETTEESLRNYYEQWGKLTDCVVMRDPASKRSRGFGFVTFSSMAEVDAAMAARPHSIDGRVVEPKRAVAREESGKPGAHVTVKKLFVGGIKEDTEEHHLRDYFEEYGKIDTIEIITDRQSGKKRGFGFVTFDDHDPVDKIVLQKYHTINGHNAEVRKALSRQEMQEVQSSRSGRGGNFGFGDSRGGGGNFGPGPGSNFRGGSDGYGSGRGFG-DGYNG------------------YGGGPGGGNFGGSPGYGGGRGGYGGGGPGYGNQGGGYG------------------------------GGYDNYGGGNYGSG-SYNDFGNYNQQPS-NYGPMKSG-NFGGSRNMGG-------PYGGGNYGPGGSGGS--GGYGGRSRYG - O88569.2|ROA2\n",
      "--------------MEKTLETVPLERKKREKEQFRKLFIGGLSFETTEESLRNYYEQWGKLTDCVVMRDPASKRSRGFGFVTFSSMAEVDAAMAARPHSIDGRVVEPKRAVAREESGKPGAHVTVKKLFVGGIKEDTEEHHLRDYFEEYGKIDTIEIITDRQSGKKRGFGFVTFDDHDPVDKIVLQKYHTINGHNAEVRKALSRQEMQEVQSSRSGRGGNFGFGDSRGGGGNFGPGPGSNFRGGSDGYGSGRGFG-DGYNG------------------YGGGPGGGNFGGSPGYGGGRGGYGGGGPGYGNQGGGYG------------------------------GGYDNYGGGNYGSG-NYNDFGNYNQQPS-NYGPMKSG-NFGGSRNMGG-------PYGGGNYGPGGSGGS--GGYGGRSRYG - P22626.2|ROA2\n",
      "--------------MEKTLETVPLERKKREKEQFRKLFIGGLSFETTEESLRNYYEQWGKLTDCVVMRDPASKRSRGFGFVTFSSMAEVDAAMAARPHSIDGRVVEPKRAVAREESGKPGAHVTVKKLFVGGIKEDTEEHHLRDYFEEYGKIDTIEIITDRQSGKKRGFGFVTFDDHDPVDKIFLQKYHTINGHNAEVRKALSRQEMQEVQSSRSGRGGNFGFGDSRGGGGNFGPGPGSNFRGGSDGYGSGRGFG-DGYNG------------------YGGGPGGGNFGGSPGYGGGRGGYGGGGPGYGNQGGGYG------------------------------GGYDNYGGGNYGSG-NYNDFGNYNQQPS-NYGPMKSG-NFGGSRNMGG-------PYGGGNYGPGGSGGS--GGYGGRSRY- - A7VJC2.1\n",
      "\n",
      "Alinhamento: Alignment with 18 rows and 429 columns\n",
      "---------------------MSKSESPKEPEQLRKLFIGGLSF...F-- NP002127.1|HNRNP\n",
      "---------------------MSKSESPKEPEQLRKLFIGGLSF...F-- NP112420.1|HNRNP\n",
      "---------------------MSKSASPKEPEQLRKLFIGGLSF...FQ- NP001011724.1|HNRNP\n",
      "---------------------MSKSASPKEPEQLRKLFIGGLSF...FQ- NP001011725.1|HNRNP\n",
      "---------------------MSKSASPKEPEQLRKLFIGGLSF...FQ- Q32P51.2|RA1L2\n",
      "---------------------MSKSESPKEPEQLRKLFIGGLSF...FQ- A5A6H4.1|ROA1\n",
      "---------------------MSKSESPKEPEQLRKLFIGGLSF...FQ- P04256.3|ROA1\n",
      "---------------------MSKSESPKEPEQLRKLFIGGLSF...FQ- Q28521.3|ROA1\n",
      "---------------------MSKSESPKEPEQLRKLFIGGLSF...F-- P09651.5|ROA1\n",
      "---------------------MHKSEAPNEPEQLRKLFIGGLSF...FY- P17130.1|ROA1\n",
      "--------MPRGGMDDHWPSSDDQGHEPKEPEQLRKLFIGGLSF...FY- P51992.1|RO32\n",
      "MEVKPPPGRPQPDSGRRRRRRGEEGHDPKEPEQLRKLFIGGLSF...--- P51991.2|ROA3\n",
      "MEVKPPPGRPQPDSGRRRRRRGEEGHDPKEPEQLRKLFIGGLSF...--- Q6URK4.1|ROA3\n",
      "--------------------------MEREKEQFRKLFIGGLSF...RYM P51989.1|RO21\n",
      "--------------------------MEREKEQFRKLFIGGLSF...RYG Q2HJ60.1|ROA2\n",
      "--------------MEKTLETVPLERKKREKEQFRKLFIGGLSF...RYG O88569.2|ROA2\n",
      "--------------MEKTLETVPLERKKREKEQFRKLFIGGLSF...RYG P22626.2|ROA2\n",
      "--------------MEKTLETVPLERKKREKEQFRKLFIGGLSF...RY- A7VJC2.1\n"
     ]
    }
   ],
   "source": [
    "alignment = AlignIO.read(\"HNRNPA1.sth\", \"stockholm\")\n",
    "for record in alignment:\n",
    "    print(\"%s - %s\" % (record.seq, record.id))\n",
    "print('\\nAlinhamento:', alignment)"
   ]
  },
  {
   "cell_type": "code",
   "execution_count": 44,
   "metadata": {},
   "outputs": [
    {
     "name": "stdout",
     "output_type": "stream",
     "text": [
      "FILOGENIA HNRNPA1 UPGMA\n",
      "                      , A5A6H4.1_|_ROA1_PANTR_|_Pan_troglodytes\n",
      "                      |\n",
      "                      | P09651.5|ROA1_HUMAN_|_Homo_sapiens\n",
      "                      |\n",
      "                      | NP_112420.1_|_HNRNP_A1_isoform_b_|_Ho...\n",
      "                      |\n",
      "                      | NP_002127.1_|_HNRNP_A1_isoform_a_|_Ho...\n",
      "                      |\n",
      "                     _| P04256.3_|_ROA1_RAT_|_Rattus_nordvegicus\n",
      "                    | |\n",
      "          __________| | Q28521.3_|_ROA1_MACMU_|_Macaca_mulatta\n",
      "         |          |\n",
      "         |          | , NP_001011724.1_|_HNRNP_A1-like_2_|_Ho...\n",
      "         |          |_|\n",
      "  _______|            , NP_001011725.1_|_HNRNP_A1-like_2_|_Ho...\n",
      " |       |            |\n",
      " |       |            | Q32P51.2_|_RA1L2_HUMAN_|_Homo_sapiens\n",
      " |       |\n",
      " |       |____________ P17130.1|ROA1_XENLA_|_Xaenopus_laevis\n",
      " |\n",
      " |          __________ P51992.1|RO32_XENLA_|_Xaenopus_laevis\n",
      " |_________|\n",
      "_|         |          , P51991.2|ROA3_HUMAN_|_Homo_sapiens\n",
      " |         |__________|\n",
      " |                    | Q6URK4.1|ROA3_RAT_|_Rattus_nordvegicus\n",
      " |\n",
      " |                          ______ P51989.1|RO21_XENLA_|_Xaenopus_laevis\n",
      " |_________________________|\n",
      "                           |      , Q2HJ60.1|ROA2_BOVIN_|_Bos_taurus\n",
      "                           |______|\n",
      "                                  , A7VJC2.1_|_ROA2_RAT_|_Rattus_norvegicus\n",
      "                                  |\n",
      "                                  , O88569.2|ROA2_MOUSE_|_Mus_musculus\n",
      "                                  |\n",
      "                                  | P22626.2|ROA2_HUMAN_|_Homo_sapiens\n",
      "\n"
     ]
    }
   ],
   "source": [
    "from Bio import Phylo\n",
    "tree_UPGMA1 =Phylo.read('./hnrnpa1.nwk', 'newick')\n",
    "#print (tree_UPGMA1)\n",
    "print('FILOGENIA HNRNPA1 UPGMA')\n",
    "Phylo.draw_ascii(tree_UPGMA1)"
   ]
  },
  {
   "cell_type": "code",
   "execution_count": 45,
   "metadata": {},
   "outputs": [
    {
     "name": "stdout",
     "output_type": "stream",
     "text": [
      "FILOGENIA HNRNPA1 MAXIMUM LIKELIHOOD\n",
      "                       , NP_002127.1_|_HNRNP_A1_isoform_a_|_Ho...\n",
      "                       |\n",
      "                       | P09651.5|ROA1_HUMAN_|_Homo_sapiens\n",
      "                       |\n",
      "                       | NP_112420.1_|_HNRNP_A1_isoform_b_|_Ho...\n",
      "                       |\n",
      "                       | P04256.3_|_ROA1_RAT_|_Rattus_nordvegicus\n",
      "                       |\n",
      "                       | , NP_001011724.1_|_HNRNP_A1-like_2_|_Ho...\n",
      "                       |_|\n",
      "                       | , NP_001011725.1_|_HNRNP_A1-like_2_|_Ho...\n",
      "                       | |\n",
      "                       | | Q32P51.2_|_RA1L2_HUMAN_|_Homo_sapiens\n",
      "             __________|\n",
      "            |          | A5A6H4.1_|_ROA1_PANTR_|_Pan_troglodytes\n",
      "  __________|          |\n",
      " |          |          | Q28521.3_|_ROA1_MACMU_|_Macaca_mulatta\n",
      " |          |\n",
      " |          |__________ P17130.1|ROA1_XENLA_|_Xaenopus_laevis\n",
      " |\n",
      " |             _______ P51992.1|RO32_XENLA_|_Xaenopus_laevis\n",
      "_|____________|\n",
      " |            |        , P51991.2|ROA3_HUMAN_|_Homo_sapiens\n",
      " |            |________|\n",
      " |                     | Q6URK4.1|ROA3_RAT_|_Rattus_nordvegicus\n",
      " |\n",
      " |                           ___ P51989.1|RO21_XENLA_|_Xaenopus_laevis\n",
      " |__________________________|\n",
      "                            |     , Q2HJ60.1|ROA2_BOVIN_|_Bos_taurus\n",
      "                            |_____|\n",
      "                                  , O88569.2|ROA2_MOUSE_|_Mus_musculus\n",
      "                                  |\n",
      "                                  , P22626.2|ROA2_HUMAN_|_Homo_sapiens\n",
      "                                  |\n",
      "                                  | A7VJC2.1_|_ROA2_RAT_|_Rattus_norvegicus\n",
      "\n"
     ]
    }
   ],
   "source": [
    "from Bio import Phylo\n",
    "tree_ML1 =Phylo.read('./hnrnpa1_ml.nwk', 'newick')\n",
    "#print (tree_ML1)\n",
    "print('FILOGENIA HNRNPA1 MAXIMUM LIKELIHOOD')\n",
    "Phylo.draw_ascii(tree_ML1)"
   ]
  },
  {
   "cell_type": "markdown",
   "metadata": {},
   "source": [
    "### SMAD 3 - mothers against decapentaplegic homolog 3 isoform 1"
   ]
  },
  {
   "cell_type": "code",
   "execution_count": 6,
   "metadata": {},
   "outputs": [],
   "source": [
    "# smad = get_hit_id('NP_005893.1')\n",
    "# smadid = get_id(smad)\n",
    "# get_fasta_file(smadid, 'smad_3')"
   ]
  },
  {
   "cell_type": "code",
   "execution_count": 25,
   "metadata": {
    "collapsed": true,
    "jupyter": {
     "outputs_hidden": true
    }
   },
   "outputs": [
    {
     "name": "stdout",
     "output_type": "stream",
     "text": [
      "Alignment with 18 rows and 526 columns\n",
      "----------------MSSILPFTPPIVKRLLGWKKGE------...VS- NP\n",
      "--------------------------------------------...VSN NP001138574.1|\n",
      "--------------------------------------------...VSP NP001138576.1|\n",
      "----------------MSSILPFTPPIVKRLLGWKKGE------...VS- P84022.1|SMAD3|Homo\n",
      "----------------MSSILPFTPPIVKRLLGWKKGE------...VS- P84023.1\n",
      "----------------MSSILPFTPPVVKRLLGWKKSAGGSGGA...MS- Q62432.2|SMAD2\n",
      "----------------MSSILPFTPPVVKRLLGWKKSAGGSGGA...MS- Q15796.1|SMAD2\n",
      "----------------MSSILPFTPPVVKRLLGWKKSAGGSGGA...MS- Q5R7C0.1|SMAD2\n",
      "----------------MSSILPFTPPVVKRLLGWKKSAGGSGGA...MS- O70436.1|SMAD2\n",
      "----------------MSSILPFTPPVVKRLLGWKKSAGGSGGA...MS- Q1W668.1|SMAD2\n",
      "----------------MSSILPFTPPVVKRLLGWKKSASGSSGA...MS- Q9I9P9.1|SMAD2\n",
      "-------------MTSMASLFSFTSPAVKRLLGWKQGD------...VSS P97454.2|SMAD5\n",
      "-------------MTSMASLFSFTSPAVKRLLGWKQGD------...VSS Q56I99.1|SMAD5\n",
      "-------------MTSMASLFSFTSPAVKRLLGWKQGD------...VSS Q5R6H7.1|SMAD5\n",
      "-------------MTSMSSLFSFTSPAVKRLLGWKQGD------...VSS Q9W7E7.1|SMAD5\n",
      "-------------MTSMASLFSFTSPAVKRLLGWKQGD------...VS- Q9R1V3.1|SMAD5\n",
      "MDTDDVESNTSSAMSTLGSLFSFTSPAVKKLLGWKQGD------...VSS P42003.1|MAD\n",
      "--------------MNVTSLFSFTSPAVKRLLGWKQGD------...--- Q15797.1|SMAD1\n"
     ]
    }
   ],
   "source": [
    "al2 = AlignIO.read('smad3_for_align.fas','fasta')\n",
    "print(al2)"
   ]
  },
  {
   "cell_type": "code",
   "execution_count": 26,
   "metadata": {},
   "outputs": [
    {
     "name": "stdout",
     "output_type": "stream",
     "text": [
      "Converted 1 alignments\n",
      "1\n"
     ]
    }
   ],
   "source": [
    "from Bio import AlignIO\n",
    "al_smad3= AlignIO.convert(\"smad3_for_align.fas\",'fasta',\"smad3_for_align.sth\",'stockholm')\n",
    "print(\"Converted %i alignments\" % al_st)\n",
    "print(al_smad3)"
   ]
  },
  {
   "cell_type": "code",
   "execution_count": 27,
   "metadata": {
    "collapsed": true,
    "jupyter": {
     "outputs_hidden": true
    }
   },
   "outputs": [
    {
     "name": "stdout",
     "output_type": "stream",
     "text": [
      "---------------------MSKSESPKEPEQLRKLFIGGLSFETTDESLRSHFEQWGTLTDCVVMRDPNTKRSRGFGFVTYATVEEVDAAMNARPHKVDGRVVEPKRAVSREDSQRPGAHLTVKKIFVGGIKEDTEEHHLRDYFEQYGKIEVIEIMTDRGSGKKRGFAFVTFDDHDSVDKIVIQKYHTVNGHNCEVRKALSKQEMASASSSQRGRSGSGNFG----------GGRGGGFGGNDNFGRGGNFSGRGG---------------------FGGSRGGGGYGGSGDGYNGFGNDG----------------------------------------------------SNFGGGGSYNDFGNYNNQSS-NFGPMKGG-NFGG-RSSGPYGGGGQYFAKPRNQGGYGGSSSSSSYGSGRRF-- - NP002127.1|HNRNP\n",
      "---------------------MSKSESPKEPEQLRKLFIGGLSFETTDESLRSHFEQWGTLTDCVVMRDPNTKRSRGFGFVTYATVEEVDAAMNARPHKVDGRVVEPKRAVSREDSQRPGAHLTVKKIFVGGIKEDTEEHHLRDYFEQYGKIEVIEIMTDRGSGKKRGFAFVTFDDHDSVDKIVIQKYHTVNGHNCEVRKALSKQEMASASSSQRGRSGSGNFG----------GGRGGGFGGNDNFGRGGNFSGRGG---------------------FGGSRGGGGYGGSGDGYNGFGNDGGYGGGGPGYSGGSRGYGSGGQGYGNQGSGYGGSGSYDSYNNGGGGGFGGGSGSNFGGGGSYNDFGNYNNQSS-NFGPMKGG-NFGG-RSSGPYGGGGQYFAKPRNQGGYGGSSSSSSYGSGRRF-- - NP112420.1|HNRNP\n",
      "---------------------MSKSASPKEPEQLRKLFIGGLSFETTDESLRSHFEQWGTLTDCVVMRDPNTKRSRGFGFVTYATVEEVDAAMNTTPHKVDGRVVEPKRAVSREDSQRPGAHLTVKKIFVGGIKEDTEEHHLRDYFEQYGKIEVIEIMTDRGSGKKRGFAFVTFDDHDSVDKIVIQKYHTVKGHNCEVRKALPKQEMASASSSQRGRRGSGNFG----------GGRGDGFGGNDNFGRGGNFSGRGG---------------------FGGSCGGGGYGGSGDGYNGFGNDG----------------------------------------------------SNFGGGGSYNDFGNYNNQSS-NFGPMKGG-NFGG-RSSGPYGGGGQYFAKPQNQGGYGVSSSSSSYGSGRRFQ- - NP001011724.1|HNRNP\n",
      "---------------------MSKSASPKEPEQLRKLFIGGLSFETTDESLRSHFEQWGTLTDCVVMRDPNTKRSRGFGFVTYATVEEVDAAMNTTPHKVDGRVVEPKRAVSREDSQRPGAHLTVKKIFVGGIKEDTEEHHLRDYFEQYGKIEVIEIMTDRGSGKKRGFAFVTFDDHDSVDKIVIQKYHTVKGHNCEVRKALPKQEMASASSSQRGRRGSGNFG----------GGRGDGFGGNDNFGRGGNFSGRGG---------------------FGGSCGGGGYGGSGDGYNGFGNDG----------------------------------------------------SNFGGGGSYNDFGNYNNQSS-NFGPMKGG-NFGG-RSSGPYGGGGQYFAKPQNQGGYGVSSSSSSYGSGRRFQ- - NP001011725.1|HNRNP\n",
      "---------------------MSKSASPKEPEQLRKLFIGGLSFETTDESLRSHFEQWGTLTDCVVMRDPNTKRSRGFGFVTYATVEEVDAAMNTTPHKVDGRVVEPKRAVSREDSQRPGAHLTVKKIFVGGIKEDTEEHHLRDYFEQYGKIEVIEIMTDRGSGKKRGFAFVTFDDHDSVDKIVIQKYHTVKGHNCEVRKALPKQEMASASSSQRGRRGSGNFG----------GGRGDGFGGNDNFGRGGNFSGRGG---------------------FGGSCGGGGYGGSGDGYNGFGNDG----------------------------------------------------SNFGGGGSYNDFGNYNNQSS-NFGPMKGG-NFGG-RSSGPYGGGGQYFAKPQNQGGYGVSSSSSSYGSGRRFQ- - Q32P51.2|RA1L2\n",
      "---------------------MSKSESPKEPEQLRKLFIGGLSFETTDESLRSHFEQWGTLTDCVVMRDPNTKRSRGFGFVTYATVEEVDAAMNARPHKVDGRVVEPKRAVSREDSQRPGAHLTVKKIFVGGIKEDTEEHHLRDYFEQYGKIEVIEIMTDRGSGKKRGFAFVTFDDHDSVDKIVIQKYHTVNGHNCEVRKALSKQEMASASSSQRGRSGSGNFG----------GGRGGGFGGNDNFGRGGNFSGRGG---------------------FGGSRGGGGYGGSGDGYNGFGNDG----------------------------------------------------SNFGGGGSYNDFGNYNNQSS-NFGPMKGG-NFGG-RSSGPYGGGGQYFAKPRNQGGYGGSSSSSSYGSGRRFQ- - A5A6H4.1|ROA1\n",
      "---------------------MSKSESPKEPEQLRKLFIGGLSFETTDESLRSHFEQWGTLTDCVVMRDPNTKRSRGFGFVTYATVEEVDAAMNARPHKVDGRVVEPKRAVSREDSQRPGAHLTVKKIFVGGIKEDTEEHHLRDYFEQYGKIEVIEIMTDRGSGKKRGFAFVTFDDHDSVDKIVIQKYHTVNGHNCEVRKALCKQEMASASSSQRGRSGSGNFG----------GGRGGGFGGNDNFGRGGNFSGRGG---------------------FGGSRGGGGYGGSGDGYNGFGNDG----------------------------------------------------SNFGGGGSYNDFGNYNNQSS-NFGPMKGG-NFGG-RSSGPYGGGGQYFAKPRNQGGYGGSSSSSSYGSGRRFQ- - P04256.3|ROA1\n",
      "---------------------MSKSESPKEPEQLRKLFIGGLSFETTDESLRSHFEQWGTLTDCVVMRDPNTKRSRGFGFVTYATVEKVDAAMNARPHKVDGRVVEPKRAVSREDSQRPGAHLTVKKIFVGGIKEDTEEHHLRDYFEQYGKIEVIEIMTDRGSGKKRGFAFVTFDDHNSVDKIVIQKYHTVNGHNCEVRKALSKQEMASASSSQRGRSGSGNFG----------GGRGGGFGGNDNFGRGGNFSGRGG---------------------FGGSRGGGGYGGSGDGYNGFGNDG----------------------------------------------------SNFGGGGSYNDFGNYNNQSS-NFGPMKGG-NFGG-RSLGPYGGGGQYFAKPRNQGGYGGSSSSSSYGSGRRFQ- - Q28521.3|ROA1\n",
      "---------------------MSKSESPKEPEQLRKLFIGGLSFETTDESLRSHFEQWGTLTDCVVMRDPNTKRSRGFGFVTYATVEEVDAAMNARPHKVDGRVVEPKRAVSREDSQRPGAHLTVKKIFVGGIKEDTEEHHLRDYFEQYGKIEVIEIMTDRGSGKKRGFAFVTFDDHDSVDKIVIQKYHTVNGHNCEVRKALSKQEMASASSSQRGRSGSGNFG----------GGRGGGFGGNDNFGRGGNFSGRGG---------------------FGGSRGGGGYGGSGDGYNGFGNDGGYGGGGPGYSGGSRGYGSGGQGYGNQGSGYGGSGSYDSYNNGGGGGFGGGSGSNFGGGGSYNDFGNYNNQSS-NFGPMKGG-NFGG-RSSGPYGGGGQYFAKPRNQGGYGGSSSSSSYGSGRRF-- - P09651.5|ROA1\n",
      "---------------------MHKSEAPNEPEQLRKLFIGGLSFETTDESLREHFEQWGTLTDCVVMRDPNSKRSRGFGFVTYLSTDEVDAAMTARPHKVDGRVVEPKRAVSREDSSRPGAHLTVKKIFVGGIKEDTEEDHLREYFEQYGKIEVIEIMTDRGSGKKRGFAFVTFEDHDSVDKIVIQKYHTVNNHNSQVRKALSKQEMASVSGSQRERGGSGNYGSRGGFGNDNFGGRGGNFGGNRGGGGGFGNRGYGGDGYNGDGQLWWQPSLLGWNRGYGAGQGGGYGAGQGGGYGGGGQGGGYGGNGGYDG------------------------------YNGGGSGFSGSGGNFGSSGGYNDFGNYNSQSSSNFGPMKGG-NYGGGRNSGPYGGG----------YGGGSASSSSGYGGGRRFY- - P17130.1|ROA1\n",
      "--------MPRGGMDDHWPSSDDQGHEPKEPEQLRKLFIGGLSFETTDDSLREHFEQWGKLTDCVVMRDPQTKRSRGFGFVTYSCVEEVDASMSARPHKVDGRVVEPKRAVSREDSARPGAHLTVKKIFVGGIKEDTEEYHLRDYFEGYGKIETIEVMEDRQSGKKRGFAFVTFDDHDTVDKIVVQKYHTINLHNCEVKKALSKQEMQTASAQRGRGGGGSNFMGRGG----NYGGGDGGGGGNFGRGGGFGNRGGYG---------------------GGGGRG-GGYGGGGDGYNGFGGDGGNYGGGPGYGGRGYGGSPGYGNQGGGYGGGGGGGGAGGGGYDGYNEGGNFG------GGNYNDFGSYGGQQQSNYGPMKAG-NFSG-RSTGGSGGSSSGPYGGGYGSGGGGGGGGGGSYGGRRFY- - P51992.1|RO32\n",
      "MEVKPPPGRPQPDSGRRRRRRGEEGHDPKEPEQLRKLFIGGLSFETTDDSLREHFEKWGTLTDCVVMRDPQTKRSRGFGFVTYSCVEEVDAAMCARPHKVDGRVVEPKRAVSREDSVKPGAHLTVKKIFVGGIKEDTEEYNLRDYFEKYGKIETIEVMEDRQSGKKRGFAFVTFDDHDTVDKIVVQKYHTINGHNCEVKKALSKQEMQSAGSQRGRGGGSGNFMGRGG----NFGGG----GGNFGRGGNFGGRGGYG---------------------GGGGGSRGSYGGGDGGYNGFGGDGGNYGGGPGYSSR-----GGYGGGGPGYGNQGGGYGGGGG-YDGYNEGGNFGGGNYGGGGNYNDFGNYSGQQQSNYGPMKGG-SFGG-RSSGS-------PYGGGYGSGGGSGGYGSRRFS------ - P51991.2|ROA3\n",
      "MEVKPPPGRPQPDSGRRRRRRGEEGHDPKEPEQLRKLFIGGLSFETTDDSLREHFEKWGTLTDCVVMRDPQTKRSRGFGFVTYSCVEEVDAAMCARPHKVDGRVVEPKRAVSREDSVKPGAHLTVKKIFVGGIKEDTEEYNLRDYFEKYGKIETIEVMEDRQSGKKRGFAFVTFDDHDTVDKIVVQKYHTINGHNCEVKKALSKQEMQSAGSQRGRGGGSGNFMGRGG----NFGGG----GGNFGRGGNFGGRGGYG---------------------GGGGGSRGSYGGGDGGYNGFGGDGGNYGGGPGYSSR-----GGYGGGGPGYGNQGGGYGGGGGGYDGYNEGGNFGGGNYGGGGNYNDFGNYSGQQQSNYGPMKGG-SFGG-RSSGS-------PYGGGYGSGGGSGGYGSRRF------- - Q6URK4.1|ROA3\n",
      "--------------------------MEREKEQFRKLFIGGLSFETTEESLRNYYEQWGTLTDCVVMRDPASKRSRGFGFVTFSCMNEVDAAMATRPHTIDGRVVEPKRAVAREESAKPGAHVTVKKLFVGGIKEDTEEHHLREYFEEYGKIDSIEIITDKQSGKKRGFAFVTFDDHDPVDKIVLQKYHTINGHNAEVRKALSKQEMQDVQNTRNNRGGNFGFGDSRGGG-NFGSGPGGNFRGGSDGYGGGRGYGDNGYNG------------------YGGGQGGGNYGGGPSYGGGRGGGYGGGAGYGNQGGGYG------------------------------GGYDNYGGGNYGGGGNYNDFGNYNQQSS-NYGPMKSGGNFGGNRSMGGG------PYGGGNYGPGNASGGNGGGYGGRNRYM - P51989.1|RO21\n",
      "--------------------------MEREKEQFRKLFIGGLSFETTEESLRNYYEQWGKLTDCVVMRDPASKRSRGFGFVTFSSMAEVDAAMAARPHSIDGRVVEPKRAVAREESGKPGAHVTVKKLFVGGIKEDTEEHHLRDYFEEYGKIDTIEIITDRQSGKKRGFGFVTFDDHDPVDKIVLQKYHTINGHNAEVRKALSRQEMQEVQSSRSGRGGNFGFGDSRGGGGNFGPGPGSNFRGGSDGYGSGRGFG-DGYNG------------------YGGGPGGGNFGGSPGYGGGRGGYGGGGPGYGNQGGGYG------------------------------GGYDNYGGGNYGSG-NYNDFGNYNQQPS-NYGPMKSG-NFGGSRNMGG-------PYGGGNYGPGGSGGS--GGYGGRSRYG - Q2HJ60.1|ROA2\n",
      "--------------MEKTLETVPLERKKREKEQFRKLFIGGLSFETTEESLRNYYEQWGKLTDCVVMRDPASKRSRGFGFVTFSSMAEVDAAMAARPHSIDGRVVEPKRAVAREESGKPGAHVTVKKLFVGGIKEDTEEHHLRDYFEEYGKIDTIEIITDRQSGKKRGFGFVTFDDHDPVDKIVLQKYHTINGHNAEVRKALSRQEMQEVQSSRSGRGGNFGFGDSRGGGGNFGPGPGSNFRGGSDGYGSGRGFG-DGYNG------------------YGGGPGGGNFGGSPGYGGGRGGYGGGGPGYGNQGGGYG------------------------------GGYDNYGGGNYGSG-SYNDFGNYNQQPS-NYGPMKSG-NFGGSRNMGG-------PYGGGNYGPGGSGGS--GGYGGRSRYG - O88569.2|ROA2\n",
      "--------------MEKTLETVPLERKKREKEQFRKLFIGGLSFETTEESLRNYYEQWGKLTDCVVMRDPASKRSRGFGFVTFSSMAEVDAAMAARPHSIDGRVVEPKRAVAREESGKPGAHVTVKKLFVGGIKEDTEEHHLRDYFEEYGKIDTIEIITDRQSGKKRGFGFVTFDDHDPVDKIVLQKYHTINGHNAEVRKALSRQEMQEVQSSRSGRGGNFGFGDSRGGGGNFGPGPGSNFRGGSDGYGSGRGFG-DGYNG------------------YGGGPGGGNFGGSPGYGGGRGGYGGGGPGYGNQGGGYG------------------------------GGYDNYGGGNYGSG-NYNDFGNYNQQPS-NYGPMKSG-NFGGSRNMGG-------PYGGGNYGPGGSGGS--GGYGGRSRYG - P22626.2|ROA2\n",
      "--------------MEKTLETVPLERKKREKEQFRKLFIGGLSFETTEESLRNYYEQWGKLTDCVVMRDPASKRSRGFGFVTFSSMAEVDAAMAARPHSIDGRVVEPKRAVAREESGKPGAHVTVKKLFVGGIKEDTEEHHLRDYFEEYGKIDTIEIITDRQSGKKRGFGFVTFDDHDPVDKIFLQKYHTINGHNAEVRKALSRQEMQEVQSSRSGRGGNFGFGDSRGGGGNFGPGPGSNFRGGSDGYGSGRGFG-DGYNG------------------YGGGPGGGNFGGSPGYGGGRGGYGGGGPGYGNQGGGYG------------------------------GGYDNYGGGNYGSG-NYNDFGNYNQQPS-NYGPMKSG-NFGGSRNMGG-------PYGGGNYGPGGSGGS--GGYGGRSRY- - A7VJC2.1\n",
      "\n",
      "Alinhamento: Alignment with 18 rows and 526 columns\n",
      "----------------MSSILPFTPPIVKRLLGWKKGE------...VS- NP\n",
      "--------------------------------------------...VSN NP001138574.1|\n",
      "--------------------------------------------...VSP NP001138576.1|\n",
      "----------------MSSILPFTPPIVKRLLGWKKGE------...VS- P84022.1|SMAD3|Homo\n",
      "----------------MSSILPFTPPIVKRLLGWKKGE------...VS- P84023.1\n",
      "----------------MSSILPFTPPVVKRLLGWKKSAGGSGGA...MS- Q62432.2|SMAD2\n",
      "----------------MSSILPFTPPVVKRLLGWKKSAGGSGGA...MS- Q15796.1|SMAD2\n",
      "----------------MSSILPFTPPVVKRLLGWKKSAGGSGGA...MS- Q5R7C0.1|SMAD2\n",
      "----------------MSSILPFTPPVVKRLLGWKKSAGGSGGA...MS- O70436.1|SMAD2\n",
      "----------------MSSILPFTPPVVKRLLGWKKSAGGSGGA...MS- Q1W668.1|SMAD2\n",
      "----------------MSSILPFTPPVVKRLLGWKKSASGSSGA...MS- Q9I9P9.1|SMAD2\n",
      "-------------MTSMASLFSFTSPAVKRLLGWKQGD------...VSS P97454.2|SMAD5\n",
      "-------------MTSMASLFSFTSPAVKRLLGWKQGD------...VSS Q56I99.1|SMAD5\n",
      "-------------MTSMASLFSFTSPAVKRLLGWKQGD------...VSS Q5R6H7.1|SMAD5\n",
      "-------------MTSMSSLFSFTSPAVKRLLGWKQGD------...VSS Q9W7E7.1|SMAD5\n",
      "-------------MTSMASLFSFTSPAVKRLLGWKQGD------...VS- Q9R1V3.1|SMAD5\n",
      "MDTDDVESNTSSAMSTLGSLFSFTSPAVKKLLGWKQGD------...VSS P42003.1|MAD\n",
      "--------------MNVTSLFSFTSPAVKRLLGWKQGD------...--- Q15797.1|SMAD1\n"
     ]
    }
   ],
   "source": [
    "alignment2 = AlignIO.read(\"smad3_for_align.sth\", \"stockholm\")\n",
    "for record in alignment2:\n",
    "    print(\"%s - %s\" % (record.seq, record.id))\n",
    "print('\\nAlinhamento:', alignment2)"
   ]
  },
  {
   "cell_type": "code",
   "execution_count": 46,
   "metadata": {},
   "outputs": [
    {
     "name": "stdout",
     "output_type": "stream",
     "text": [
      "FILOGENIA SMAD3 UPGMA\n",
      "    , Q15796.1|SMAD2_HUMAN_|_Homo_sapiens\n",
      "    |\n",
      "    | Q1W668.1|SMAD2_BOVIN_MAD_|_Bos_taurus\n",
      "    |\n",
      "   _| Q5R7C0.1|SMAD2_PONAB_|_Pongo_abelii\n",
      "  | |\n",
      "  | , Q62432.2|SMAD2_MOUSE|_Mus_musculus\n",
      " ,| |\n",
      " || | O70436.1|SMAD2_RAT|_Rattus_norvegicus\n",
      " ||\n",
      " ||_ Q9I9P9.1|SMAD2_DANRE_|_Danio_rerio\n",
      " |\n",
      " |  , P84023.1_|SMAD3_CHICK|_Gallus_gallus\n",
      " |__|\n",
      " |  , NP_001138574.1|_SMAD3_isoform_3_|_Hom...\n",
      " |  |\n",
      "_|  , NP_005893.1_|_SMAD3_isoform_1_|_Homo_...\n",
      " |  |\n",
      " |  , NP_001138576.1|_SMAD3_isoform_4_|_Hom...\n",
      " |  |\n",
      " |  | P84022.1|SMAD3|Homo_sapiens\n",
      " |\n",
      " |                      __________ P42003.1|MAD_DROME_|_Drosophila_melan...\n",
      " |_____________________|\n",
      "                       |     _____ Q15797.1|SMAD1_HUMAN|_Homo_sapiens\n",
      "                       |____|\n",
      "                            |   ___ Q9W7E7.1|SMAD5_DANRE_|_Danio_rerio\n",
      "                            |__|\n",
      "                               | , Q56I99.1|SMAD5_CHICK_|_Gallus_gallus\n",
      "                               |_|\n",
      "                                 |, P97454.2|SMAD5_MOUSE_RDPP_homolog_5_|...\n",
      "                                 ||\n",
      "                                  , Q5R6H7.1|SMAD5_PONAB_|_Pongo_abelii\n",
      "                                  |\n",
      "                                  | Q9R1V3.1|SMAD5_RAT_|_Rattus_norvegicus\n",
      "\n"
     ]
    }
   ],
   "source": [
    "from Bio import Phylo\n",
    "tree_UPGMA2 =Phylo.read('./smad_3.nwk', 'newick')\n",
    "#print (tree_UPGMA2)\n",
    "print('FILOGENIA SMAD3 UPGMA')\n",
    "Phylo.draw_ascii(tree_UPGMA2)"
   ]
  },
  {
   "cell_type": "code",
   "execution_count": 47,
   "metadata": {},
   "outputs": [
    {
     "name": "stdout",
     "output_type": "stream",
     "text": [
      "FILOGENIA SMAD3 MAXIMUM LIKELIHOOD\n",
      "       , NP_005893.1_|_SMAD3_isoform_1_|_Homo_...\n",
      "       |\n",
      "      ,| NP_001138574.1|_SMAD3_isoform_3_|_Hom...\n",
      "      ||\n",
      "      || P84022.1|SMAD3|Homo_sapiens\n",
      "      |\n",
      "   ___| P84023.1_|SMAD3_CHICK|_Gallus_gallus\n",
      "  |   |\n",
      "  |   | NP_001138576.1|_SMAD3_isoform_4_|_Hom...\n",
      " ,|\n",
      " ||, Q62432.2|SMAD2_MOUSE|_Mus_musculus\n",
      " |||\n",
      " ||| O70436.1|SMAD2_RAT|_Rattus_norvegicus\n",
      " |||\n",
      " | , Q5R7C0.1|SMAD2_PONAB_|_Pongo_abelii\n",
      " | |\n",
      "_| , Q15796.1|SMAD2_HUMAN_|_Homo_sapiens\n",
      " | |\n",
      " | | Q1W668.1|SMAD2_BOVIN_MAD_|_Bos_taurus\n",
      " |\n",
      " | Q9I9P9.1|SMAD2_DANRE_|_Danio_rerio\n",
      " |\n",
      " |                    _______ P42003.1|MAD_DROME_|_Drosophila_melan...\n",
      " |___________________|\n",
      "                     |      _ Q9W7E7.1|SMAD5_DANRE_|_Danio_rerio\n",
      "                     |_____|\n",
      "                           | ______ Q15797.1|SMAD1_HUMAN|_Homo_sapiens\n",
      "                           ||\n",
      "                            |, Q56I99.1|SMAD5_CHICK_|_Gallus_gallus\n",
      "                            ||\n",
      "                             |, Q9R1V3.1|SMAD5_RAT_|_Rattus_norvegicus\n",
      "                             ||\n",
      "                              , P97454.2|SMAD5_MOUSE_RDPP_homolog_5_|...\n",
      "                              |\n",
      "                              | Q5R6H7.1|SMAD5_PONAB_|_Pongo_abelii\n",
      "\n"
     ]
    }
   ],
   "source": [
    "from Bio import Phylo\n",
    "tree_ML2 =Phylo.read('./smad3_ml.nwk', 'newick')\n",
    "#print (tree_ML2)\n",
    "print('FILOGENIA SMAD3 MAXIMUM LIKELIHOOD')\n",
    "Phylo.draw_ascii(tree_ML2)"
   ]
  },
  {
   "cell_type": "markdown",
   "metadata": {},
   "source": [
    "### Nucleoprotein "
   ]
  },
  {
   "cell_type": "code",
   "execution_count": 7,
   "metadata": {},
   "outputs": [],
   "source": [
    "# np = get_hit_id('P0DTC9.1')\n",
    "# np_id = get_id(np)\n",
    "# get_fasta_file(np_id, 'nucleoprotein_3')"
   ]
  },
  {
   "cell_type": "markdown",
   "metadata": {},
   "source": [
    "### Verificação dos alinhamentos com o AlignIO.readIO"
   ]
  },
  {
   "cell_type": "code",
   "execution_count": 30,
   "metadata": {},
   "outputs": [
    {
     "name": "stdout",
     "output_type": "stream",
     "text": [
      "Alignment with 15 rows and 504 columns\n",
      "----MSDNGPQNQRNAPRITFGGPSDSTGS---NQNGERSGARS...--- P0DTC9.1\n",
      "----MSDNGPQNQRNAPRITFGGPSDSTGS---NQNGERSGARS...--- QOD07317.1\n",
      "----MSDNGPQNQRNAPRITFGGPSDSTGS---NQNGERSGARS...--- QQV26719.1\n",
      "----MSDNGPQNQRNAPRITFGGPSDSTGS---NQNGERSGARS...--- QQZ90878.1\n",
      "----MSDNGPQNQRNAPRITFGGPSDSTGS---NQNGERSGARS...--- YP\n",
      "----MSDNGPQNQRNAPRITFGGPSDSTGS---NQNGERSGARS...--- QOT48517.1\n",
      "----MSDNGPQNQRSAPRITFGGPTDSTDN---NQDGGRSGARP...--- Q3I5I7.1\n",
      "---MSGRNRSRSGTPSPKVTFKQESDGSDSESERRNGNRNGARP...ERS A3EXH0.1\n",
      "MSYTPG-HHAGSRSSSGNRS--GILKKTSWVDQSERSHQTYNRG...--- Q0ZME3.1\n",
      "MSFVPGQENAGSRSSSGNRAGNGILKKTTWADQTERGLNNQNRG...--- P03417.1\n",
      "MSFVPGQENAGSRSSSGNRAGNGILKKTTWADQTERGPNNQNRG...--- Q83360.1\n",
      "MSFVPGQENAGSRSSSGNRAGNGILKKTTWADQTERGSNNQNRG...--- P59713.1\n",
      "----------MASPAAPRAVSFA--DNND----ITNTNLSRGRG...--- QJX19964.1\n",
      "----------MASPAAPRAVSFA--DNND----ITNTNLSRGRG...--- QFN25227.1\n",
      "----------MASPAAPRAVSFA--DNND----ITNTNLSRGRG...--- QGV13487.1\n"
     ]
    }
   ],
   "source": [
    "al3 = AlignIO.read('nucleoprotein.fas','fasta')\n",
    "print(al3)"
   ]
  },
  {
   "cell_type": "code",
   "execution_count": 40,
   "metadata": {},
   "outputs": [
    {
     "name": "stdout",
     "output_type": "stream",
     "text": [
      "Converted 1 alignments\n",
      "1\n"
     ]
    }
   ],
   "source": [
    "from Bio import AlignIO\n",
    "al_nucl = AlignIO.convert(\"nucleoprotein.fas\",'fasta',\"nucleoprotein.sth\",'stockholm')\n",
    "print(\"Converted %i alignments\" % al_nucl)\n",
    "print(al_nucl)"
   ]
  },
  {
   "cell_type": "code",
   "execution_count": 41,
   "metadata": {},
   "outputs": [
    {
     "name": "stdout",
     "output_type": "stream",
     "text": [
      "----MSDNGPQNQRNAPRITFGGPSDSTGS---NQNGERSGARSKQ----------RRPQGLPNNTASWFTALTQHGK-EDLKFPRGQGVPINTNSSPDDQIGYYRRATR-RIRGGDGKMKDLSPRWYFYYLGTGPEAGLPYGANKDGIIWVATEGALNTPKDHIGTRNPANNAAIVLQLPQGTTLPKGFYAEGSRGGSQASSRSSSRSRNSSRNSTPGSSRGTSP------ARMAGNGGDAALALLLLDRLNQLESKMSG-KGQQQQGQTVTKKSAAEASKKPRQKRTATKAYNVTQAFGRRGPEQTQGNFGDQELIRQGTDYKHWPQIAQFAPSASAFFGMSRIGMEVTPSG---------TWLTYTGAIKLDDKDPNFKDQVILLNKHIDAYKT----------FPPTEPKKDKKKK-------------ADETQALPQRQKKQQTVTLLPAADLDDFSKQLQQSMSSADSTQA--------------------------- - P0DTC9.1\n",
      "----MSDNGPQNQRNAPRITFGGPSDSTGS---NQNGERSGARSKQ----------RRPQGLPNNTASWFTALTQHGK-EDLKFPRGQGVPINTNSSPDDQIGYYRRATR-RIRGGDGKMKDLSPRWYFYYLGTGPEAGLPYGANKDGIIWVATEGALNTPKDHIGTRNPANNAAIVLQLPQGTTLPKGFYAEGSRGGSQASSRSSSRSRNSSRNSTPGSSRGTSP------ARMAGNGGDAALALLLLDRLNQLESKMSG-KGQQQQGQTVTKKSAAEASKKPRQKRTATKAYNVTQAFGRRGPEQTQGNFGDQELIRQGTDYKHWPQIAQFAPSASAFFGMSRIGMEVTPSG---------TWLTYTGAIKLDDKDPNFKDQVILLNKHIDAYKT----------FPPTEPKKDKKKK-------------ADETQALPQRQKKQQTVTLLPAADLDDFSKQLQQSMSSADSTQA--------------------------- - QOD07317.1\n",
      "----MSDNGPQNQRNAPRITFGGPSDSTGS---NQNGERSGARSKQ----------RRPQGLPNNTASWFTALTQHGK-EDLKFPRGQGVPINTNSSPDDQIGYYRRATR-RIRGGDGKMKDLSPRWYFYYLGTGPEAGLPYGANKDGIIWVATEGALNTPKDHIGTRNPANNAAIVLQLPQGTTLPKGFYAEGSRGGSQASSRSSSRSRNSSRNSTPGSSRGISP------ARMAGNGGDAALALLLLDRLNQLESKMSG-KGQQQQGQTVTKKSAAEASKKPRQKRTATKAYNLTQAFGRRGPEQTQGNFGDQELIRQGTDYKHWPQIAQFAPSASAFFGMSRIGMEVTPSG---------TWLTYTGAIKLDDKDPNFKDQVILLNKHIDAYKT----------FPPTEPKKDKKKK-------------ADETQALPQRQKKQQTVTLLPAADLDDFSKQLQQSMSSADSTQA--------------------------- - QQV26719.1\n",
      "----MSDNGPQNQRNAPRITFGGPSDSTGS---NQNGERSGARSKQ----------RRPQGLPNNTASWFTALTQHGK-EDLKFPRGQGVPINTNSSPDDQIGYYRRATR-RIRGGDGKMKDLSPRWYFYYLGTGPEAGLPYGANKDGIIWVATEGALNTPKDHIGTRNPANNAAIVLQLPQGTTLPKGFYAEGSRGGSQASSRSSSRSRNSSRNSTPGSSKRTSP------ARMAVNGGDAAFALLLLDRLNQLESKMSG-KGQQQQGQTVTKKSAAEASKKPRQKRTATKAYNVTQAFGRRGPEQTQGNFGDQELIRQGTDYKHWPQIAQFAPSASAFFGMSRIGMEVTPSG---------TWLTYTGAIKLDDKDPNFKDQVILLNKHIDAYKT----------FPPTEPKKDKKKK-------------ADETQALPQRQKKQQTVTLLPAADLDDFSKQLQQSMSSADSTQA--------------------------- - QQZ90878.1\n",
      "----MSDNGPQNQRNAPRITFGGPSDSTGS---NQNGERSGARSKQ----------RRPQGLPNNTASWFTALTQHGK-EDLKFPRGQGVPINTNSSPDDQIGYYRRATR-RIRGGDGKMKDLSPRWYFYYLGTGPEAGLPYGANKDGIIWVATEGALNTPKDHIGTRNPANNAAIVLQLPQGTTLPKGFYAEGSRGGSQASSRSSSRSRNSSRNSTPGSSRGTSP------ARMAGNGGDAALALLLLDRLNQLESKMSG-KGQQQQGQTVTKKSAAEASKKPRQKRTATKAYNVTQAFGRRGPEQTQGNFGDQELIRQGTDYKHWPQIAQFAPSASAFFGMSRIGMEVTPSG---------TWLTYTGAIKLDDKDPNFKDQVILLNKHIDAYKT----------FPPTEPKKDKKKK-------------ADETQALPQRQKKQQTVTLLPAADLDDFSKQLQQSMSSADSTQA--------------------------- - YP\n",
      "----MSDNGPQNQRNAPRITFGGPSDSTGS---NQNGERSGARSKQ----------RRPQGLPNNTASWFTALTQHGK-EDLKFPRGQGVPINTNSSPDDQIGYYRRATR-RIRGGDGKMKDLSPRWYFYYLGTGPEAGLPYGANKDGIIWVATEGALNTPKDHIGTRNPANNAAIVLQLPQGTTLPKGFYAEGSRGGSQASSRSSSRSRNSSRNSTPGSSKRTSP------ARMAGNGGDAALALLLLDRLNQLESKMSG-KGQQQQGQTVTKKSAAEASKKPRQKRTATKAYNVTQAFGRRGPEQTQGNFGDQELIRQGTDYKHWPQIAQFAPSASAFFGMSRIGMEVTPSG---------TWLTYTGAIKLDDKDPNFKDQVILLNKHIDAYKT----------FPPTEPKKDKKKK-------------ADETQALPQRQKKQQTVTLLPAADLDDFSKQLQQSMSSADSTQA--------------------------- - QOT48517.1\n",
      "----MSDNGPQNQRSAPRITFGGPTDSTDN---NQDGGRSGARPKQ----------RRPQGLPNNTASWFTALTQHGK-EELRFPRGQGVPINTNSGKDDQIGYYRRATR-RVRGGDGKMKELSPRWYFYYLGTGPEASLPYGANKEGIVWVATEGALNTPKDHIGTRNPNNNAAIVLQLPQGTTLPKGFYAEGSRGGSQASSRSSSRSRGNSRNSTPGSSRGNSP------ARMASGGGETALALLLLDRLNQLESKVSG-RSQQQQGQTVTKKSAAEASKKPRQKRTATKQYNVTQAFGRRGPEQTQGNFGDQELIRQGTDYKHWPQIAQFAPSASAFFGMSRIGMEVTPSG---------TWLTYHGAIKLDDKDPQFKDNVILLNKHIDAYKI----------FPPTEPKKDKKKK-------------TDEAQPLPQRQKKQPTVTLLPAADMDDFSRQLQNSMSGASADSTQA------------------------- - Q3I5I7.1\n",
      "---MSGRNRSRSGTPSPKVTFKQESDGSDSESERRNGNRNGARPKNNNSRGSAPKPEKPKAAPPQNVSWFAPLVQTGK-AELRFPRGEGVPVSQGVDSTYEHGYWLRTQR-SFQ-KGGKQVLANPRWYFYYTGTGRFGDLRFGTKNPDIVWVGQEGANINRLGDMGTRNPSNDGAIPVQLAGG--IPKGFYAEGRGSRGNSRSSSRNSSRASSRGNSRASSRGASP------GRPAANPSTEPWMAYLVQKLERLESQVSGTKPATKNPVQVTKNEAAANAKKLRHKRTAHKGSGVTVNYGRRGPGDLEGNFGDREMIKLGTDDPRFAAAAQMAPNVSSFLFMSHLSTRDEDDA---------LWLHYKGAIKLPKDDPNYEQWTKILAENLNAYKD----------FPPTEPKKDKKKKEE---TAQDTVIFEDASTGTDQTVVKVWVKDQDAQTDDEWLGGDETVYEDEDDRPKTQRRHKKRGSTASRVTIADPTNAGAERS - A3EXH0.1\n",
      "MSYTPG-HHAGSRSSSGNRS--GILKKTSWVDQSERSHQTYNRGRKPQPK-FTVSTQPQ-GNPIPHYSWFSGITQFQKGRDFKFPDGQGVPIAYGIPPSEAKGYWYKHNRRSFKTADGQQKQLLPRWYFYYLGTGPYASSSYGDAHEGIFWVASHQADTSIPSDVSARDPTIQEAIPTRFSPGTILPQGYYVEGSG-------RSASNSRPGSRSQSRGPNNRSLSRSNSNFRHSDSIVKPDMADEIASLVLAKLGKDS-KPQQVTKQN---AKEIRHKILMKPRQKRTPNKFCNVQQCFGKRGP---LQNFGNSEMLKLGTNDPQFPILAELAPTPGAFFFGSKLELFKRDS-DADSPSKDTFELRYSGSIRFDSTLPGFETIMKVLKENLDAYVNSNQNTVSGSLSPKPQRKRGVKQSPES-------------FDSLNLSADTQHISNDFTPEDHSLLATLDDPYVEDSVAQ----------------------------- - Q0ZME3.1\n",
      "MSFVPGQENAGSRSSSGNRAGNGILKKTTWADQTERGLNNQNRGRKNQPK-QTATTQPNSGSVVPHYSWFSGITQFQKGKEFQFAQGQGVPIANGIPASQQKGYWYRHNRRSFKTPDGQQKQLLPRWYFYYLGTGPYAGAEYGDDIEGVVWVASQQAETRTSADIVERDPSSHEAIPTRFAPGTVLPQGFYVEGSG-------RSAPASRSGSRPQSRGPNNR--ARSSSNQRQPASTVKPDMAEEIAALVLAKLGKDAGQPKQVTKQS---AKEVRQKILNKPRQKRTPNKQCPVQQCFGKRGP---NQNFGGPEMLKLGTSDPQFPILAELAPTAGAFFFGSKLELVKKNSGGADGPTKDVYELQYSGAVRFDSTLPGFETIMKVLNENLNAYQN--QDGGADVVSPKPQRKRGTKQKAQK-------DEVDNVSVAKPKSSVQRNVSRELTPEDRSLLAQILDDGVVPDGLEDDSNVT----------------------- - P03417.1\n",
      "MSFVPGQENAGSRSSSGNRAGNGILKKTTWADQTERGPNNQNRGRRNQPK-QTATTQSNSGSVVPHYSWFSGITQFQKGKEFQFADGQGVPIANGIPASEQKGYWYRHNRRSFKTPDGQQKQLLPRWYFYYLGTGPHAGATYGDSIEGVFWVANSQADTNTRSDIVERDPSSHEAIPTRFAPGTVLPQGFYVEGSG-------RSAPASRSGSRSQSRGSNNR--ARSSSNQRQPASTVKPDMAEEIAALVLAKLGKDAGQPKQVTKQS---AKEVRQKILNKPRQKRTPNKQCPVQQCFGKRGP---NQNFGGSEMLKLGTSDPQFPILAELAPTPGAFFFGSKLELVKKNSGGVDEPTKDVYELLYSGAIRFDSTLPGFETIMKVLNENLNAYQN--QAGGVDVVSPKPQRK--GRRQAQEK-----KDEVDNVSVAKPKSSVQRNVSRELTPEDRSLLAQILDDGVVPDGLEDDSNVT----------------------- - Q83360.1\n",
      "MSFVPGQENAGSRSSSGNRAGNGILKKTTWADQTERGSNNQNRGRRNQPK-QTATTQPNSGSVVPHYSWFSGITQFQKGKEFKFAEGQGVPIANGIPATEQKGYWFRHNRRSFKSPDGQQKQLLPRWYFYYLGTGPYAGAEYGDDVEGVCWVANKQADTRTSADIAERDPSSHEAIPTRFAPGTFLPQGYYVEGSG-------RSAPASRSGSRSQSRGPNNR--ARSSSNQRQPASIVKPDMAEEIAALVLAKLGKDAGQPKQVTKQS---AKEVRQKILNKPRQKRTPNKQCPVQQCFGKRGP---NQNFGGPEMLKLGTSDPQFPILAELAPTAGAFFFGSKLELVKKNSVGVDEPTKDVYELQYSGAVRFDSTLPGFETIMKVLRENLNAYQN--QDGGADVVSPKPQRKRGQRQVAQKK-----NDEVDNVSVAKPKSAVQRNVNRELTPEDRSLLAQILDDGVVPDGLEDDSNVA----------------------- - P59713.1\n",
      "----------MASPAAPRAVSFA--DNND----ITNTNLSRGRGRN----------PKPRAAPNNTVSWYTGLTQHGK-VPLTFPPGQGVPLNANSTPAQNAGYWRRQDR-KINTGNG-IKQLAPRWYFYYTGTGPEAALPFRAVKDGIVWVHEDGATDAP-STFGTRNPNNDSAIVTQFAPGTKLPKNFHIEGTGGNSQSSSRASSVSRNSSRSSSQGSRSGNSTRGTSPGPSGIGAVG---GDLLYLDLLNRLQALESG-KVKQSQPKVITKKDAAAAKNKMRHKRTSTKSFNMVQAFGLRGPGDLQGNFGDLQLNKLGTEDPRWPQIAELAPTASAFMGMSQFKLTHQNNDDHGNP---VYFLRYSGAIKLDPKNPNYNKWLELLEQNIDAYKT----------FPKKEKKQKAPK--------------EESTDQMSEPPKEQRVQGSITQRTRTRPSVQPGPMIDVNTDS----------------------------- - QJX19964.1\n",
      "----------MASPAAPRAVSFA--DNND----ITNTNLSRGRGRN----------PKPRAAPNNTVSWYTGLTQHGK-VPLTFPPGQGVPLNANSTPAQNAGYWRRQDR-KINTGNG-IKQLAPRWYFYYTGTGPEAALPFRAVKDGIVWVHEHGATDAP-STFGTRNPNNDSAIVTQFAPGTKLPKNFHIEGTGGNSQSSSRASSVSRNSSRSSSQGSRSGNSTRGTSPGPSGIGAVG---GDLLYLDLLNRLQALESG-KVKQSQPKVITKKDAAAAKNKMRHKRTSTKSFNMVQAFGLRGPGDLQGNFGDLQLNKLGTEDPRWPQIAELAPTASAFMGMSQFKLTHQNNDDHGNP---VYFLRYSGAIKLDPKNPNYNKWLELLEQNIDAYKT----------FPKKEKKQKAPK--------------EESTDQMSEPPKEQRVQGSITQRTRTRPSVQPGPMIDVNTDS----------------------------- - QFN25227.1\n",
      "----------MASPAAPRAVSFA--DNND----ITNTNLSRGRGRN----------PKPRAAPNNTVSWYTGLTQHGK-VPLTFPPGQGVPLNANSTPAQNAGYWRRQDR-KINTGNG-IKQLAPRWYFYYTGTGPEAALPFRAVKDGIVWVHEDGATDAP-STFGTRNPNNDSAIVTQFAPGTKLPKNFHIEGTGGNSQSSSRASSVSRNSSRSSSQGSRSGNSTRGTSPGPSGIGAVG---GDLLYLDLLNRLQALESG-KVKQSQPKVITKKDAAAAKNKMRHKRTSTKSFNMVQAFGLRGPGDLQGNFGDLQLNKLGTEDPRWPQIAELAPTASAFMGMSQFKLTHQNNDDHGNP---VYFLRYSGAIKLDPKNPNYNKWLELLEQNIDAYKT----------FPKKEKKQKAPK--------------EESTDQMSEPPKEQRVQGSITQRTRTRPSVQPGPMIDVNTD------------------------------ - QGV13487.1\n",
      "\n",
      "Alinhamento: Alignment with 15 rows and 504 columns\n",
      "----MSDNGPQNQRNAPRITFGGPSDSTGS---NQNGERSGARS...--- P0DTC9.1\n",
      "----MSDNGPQNQRNAPRITFGGPSDSTGS---NQNGERSGARS...--- QOD07317.1\n",
      "----MSDNGPQNQRNAPRITFGGPSDSTGS---NQNGERSGARS...--- QQV26719.1\n",
      "----MSDNGPQNQRNAPRITFGGPSDSTGS---NQNGERSGARS...--- QQZ90878.1\n",
      "----MSDNGPQNQRNAPRITFGGPSDSTGS---NQNGERSGARS...--- YP\n",
      "----MSDNGPQNQRNAPRITFGGPSDSTGS---NQNGERSGARS...--- QOT48517.1\n",
      "----MSDNGPQNQRSAPRITFGGPTDSTDN---NQDGGRSGARP...--- Q3I5I7.1\n",
      "---MSGRNRSRSGTPSPKVTFKQESDGSDSESERRNGNRNGARP...ERS A3EXH0.1\n",
      "MSYTPG-HHAGSRSSSGNRS--GILKKTSWVDQSERSHQTYNRG...--- Q0ZME3.1\n",
      "MSFVPGQENAGSRSSSGNRAGNGILKKTTWADQTERGLNNQNRG...--- P03417.1\n",
      "MSFVPGQENAGSRSSSGNRAGNGILKKTTWADQTERGPNNQNRG...--- Q83360.1\n",
      "MSFVPGQENAGSRSSSGNRAGNGILKKTTWADQTERGSNNQNRG...--- P59713.1\n",
      "----------MASPAAPRAVSFA--DNND----ITNTNLSRGRG...--- QJX19964.1\n",
      "----------MASPAAPRAVSFA--DNND----ITNTNLSRGRG...--- QFN25227.1\n",
      "----------MASPAAPRAVSFA--DNND----ITNTNLSRGRG...--- QGV13487.1\n"
     ]
    }
   ],
   "source": [
    "alignment3 = AlignIO.read(\"nucleoprotein.sth\", \"stockholm\")\n",
    "for record in alignment3:\n",
    "    print(\"%s - %s\" % (record.seq, record.id))\n",
    "print('\\nAlinhamento:', alignment3)"
   ]
  },
  {
   "cell_type": "code",
   "execution_count": 50,
   "metadata": {},
   "outputs": [
    {
     "name": "stdout",
     "output_type": "stream",
     "text": [
      "FILOGENIA Protein N UPGMA\n",
      "                        , QOD07317.1_|_N_protein_|_SARS-CoV-2_|...\n",
      "                        |\n",
      "                        | YP_009724397.2_|_N_protein_|_SARS-CoV...\n",
      "                        |\n",
      "                        | P0DTC9.1_|_N_protein_|_SARS-CoV-2\n",
      "                        |\n",
      "                      __| QQV26719.1_|_N_protein_|_SARS-CoV-2_|...\n",
      "                     |  |\n",
      "                     |  , QQZ90878.1_|_N_protein_|_SARS-CoV-2_|...\n",
      "      _______________|  |\n",
      "     |               |  | QOT48517.1_|_N_protein_|_SARS-CoV-2_|...\n",
      "     |               |\n",
      "  ___|               |__ Q3I5I7.1_|_N_protein_|_Bat_SARS_CoV\n",
      " |   |\n",
      " |   |                  , QFN25227.1_|_N_protein_|_MERS_|Saudi_...\n",
      " |   |__________________|\n",
      " |                      , QJX19964.1_|_N_protein_|_MERS_|_South...\n",
      " |                      |\n",
      " |                      | QGV13487.1_|_N_protein_|_MERS_|_Egypt...\n",
      "_|\n",
      " |______________________ A3EXH0.1_|_N_protein_|_Rousettus_bat_...\n",
      " |\n",
      " |                         _________ Q0ZME3.1_|_N_protein_|_HKU1_Human_cor...\n",
      " |________________________|\n",
      "                          |        _ Q83360.1_|_N_protein_|_Murine_coronav...\n",
      "                          |_______|\n",
      "                                  |_ P03417.1_|_N_protein_|_Murine_hepatit...\n",
      "                                  |\n",
      "                                  |_ P59713.1_|_N_protein_Puffinosis_coron...\n",
      "\n"
     ]
    }
   ],
   "source": [
    "from Bio import Phylo\n",
    "tree_UPGMA3 =Phylo.read('./nucleoprotein_2.nwk', 'newick')\n",
    "#print (tree_UPGMA3)\n",
    "print('FILOGENIA Protein N UPGMA')\n",
    "Phylo.draw_ascii(tree_UPGMA3)"
   ]
  },
  {
   "cell_type": "code",
   "execution_count": 51,
   "metadata": {},
   "outputs": [
    {
     "name": "stdout",
     "output_type": "stream",
     "text": [
      "FILOGENIA Proteína N MAXIMUM LIKELIHOOD\n",
      "\n",
      "\n",
      "                    , P0DTC9.1_|_N_protein_|_SARS-CoV-2\n",
      "                    |\n",
      "                    | QOD07317.1_|_N_protein_|_SARS-CoV-2_|...\n",
      "                    |\n",
      "                    | YP_009724397.2_|_N_protein_|_SARS-CoV...\n",
      "                    |\n",
      "                    , QQZ90878.1_|_N_protein_|_SARS-CoV-2_|...\n",
      "                   ,|\n",
      "                   || QOT48517.1_|_N_protein_|_SARS-CoV-2_|...\n",
      "        ___________||\n",
      "       |           || QQV26719.1_|_N_protein_|_SARS-CoV-2_|...\n",
      "       |           |\n",
      "  _____|           |__ Q3I5I7.1_|_N_protein_|_Bat_SARS_CoV\n",
      " |     |\n",
      " |     |               , QFN25227.1_|_N_protein_|_MERS_|Saudi_...\n",
      " |     |_______________|\n",
      " |                     , QJX19964.1_|_N_protein_|_MERS_|_South...\n",
      "_|                     |\n",
      " |                     | QGV13487.1_|_N_protein_|_MERS_|_Egypt...\n",
      " |\n",
      " |__________________ A3EXH0.1_|_N_protein_|_Rousettus_bat_...\n",
      " |\n",
      " |                           ______ Q0ZME3.1_|_N_protein_|_HKU1_Human_cor...\n",
      " |__________________________|\n",
      "                            |    , Q83360.1_|_N_protein_|_Murine_coronav...\n",
      "                            |____|\n",
      "                                 |, P03417.1_|_N_protein_|_Murine_hepatit...\n",
      "                                 ||\n",
      "                                  |_ P59713.1_|_N_protein_Puffinosis_coron...\n",
      "\n"
     ]
    }
   ],
   "source": [
    "from Bio import Phylo\n",
    "tree_ML3 =Phylo.read('./nprot_max_lik.nwk', 'newick')\n",
    "#print (tree_ML3)\n",
    "print('FILOGENIA Proteína N MAXIMUM LIKELIHOOD')\n",
    "print('\\n')\n",
    "Phylo.draw_ascii(tree_ML3)"
   ]
  }
 ],
 "metadata": {
  "kernelspec": {
   "display_name": "Python 3",
   "language": "python",
   "name": "python3"
  },
  "language_info": {
   "codemirror_mode": {
    "name": "ipython",
    "version": 3
   },
   "file_extension": ".py",
   "mimetype": "text/x-python",
   "name": "python",
   "nbconvert_exporter": "python",
   "pygments_lexer": "ipython3",
   "version": "3.8.3"
  }
 },
 "nbformat": 4,
 "nbformat_minor": 4
}
